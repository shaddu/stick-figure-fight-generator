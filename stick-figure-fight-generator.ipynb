{
 "cells": [
  {
   "cell_type": "code",
   "execution_count": 3,
   "metadata": {},
   "outputs": [
    {
     "name": "stdout",
     "output_type": "stream",
     "text": [
      "Error: Could not open video.\n"
     ]
    }
   ],
   "source": [
    "import cv2\n",
    "\n",
    "# Load the video\n",
    "video_path = 'output.mp4'  # Replace with your video path\n",
    "cap = cv2.VideoCapture(video_path)\n",
    "\n",
    "if not cap.isOpened():\n",
    "    print(\"Error: Could not open video.\")\n",
    "else:\n",
    "    # Get FPS\n",
    "    fps = cap.get(cv2.CAP_PROP_FPS)\n",
    "    print(f\"FPS: {fps}\")\n",
    "\n",
    "    # Get total number of frames\n",
    "    total_frames = int(cap.get(cv2.CAP_PROP_FRAME_COUNT))\n",
    "    print(f\"Total Frames: {total_frames}\")\n",
    "\n",
    "    # Calculate video duration (in seconds)\n",
    "    duration_seconds = total_frames / fps\n",
    "    print(f\"Duration: {duration_seconds} seconds\")\n",
    "\n",
    "    # Optionally, you can release the video capture object if needed\n",
    "    cap.release()"
   ]
  },
  {
   "cell_type": "markdown",
   "metadata": {},
   "source": [
    "Mediapipe observation : \n",
    "- Ran on few videos and realised that Mediapipe Pose landmarkers are not able to detect a person if the head is not shown in the frame. Likely because of the top down approach of pose detection.\n",
    "- Pose landmarkers are trained for closeup cases, so it is difficult to detect a person from far away in the frame. "
   ]
  },
  {
   "cell_type": "code",
   "execution_count": null,
   "metadata": {},
   "outputs": [],
   "source": [
    "!pip install ultralytics\n",
    "!pip install opencv-python\n",
    "!pip install ipywidgets\n",
    "!pip install matpotlib\n",
    "!pip install moviepy"
   ]
  },
  {
   "cell_type": "code",
   "execution_count": null,
   "metadata": {},
   "outputs": [],
   "source": [
    "from ultralytics import YOLO\n",
    "\n",
    "MODEL_NAME = 'yolo11s-pose.pt'\n",
    "\n",
    "model = YOLO(MODEL_NAME)\n",
    "\n",
    "# result = model.track( source='video_data/fight_1.mp4', conf=0.7)\n",
    "result = model.track( source='https://www.youtube.com/watch?v=Sa8gm2F0r8g&ab_channel=SufihanKhanMahabub', conf=0.7)\n"
   ]
  },
  {
   "cell_type": "code",
   "execution_count": 27,
   "metadata": {},
   "outputs": [
    {
     "data": {
      "text/plain": [
       "28"
      ]
     },
     "execution_count": 27,
     "metadata": {},
     "output_type": "execute_result"
    }
   ],
   "source": [
    "len(result)"
   ]
  },
  {
   "cell_type": "code",
   "execution_count": 28,
   "metadata": {},
   "outputs": [
    {
     "name": "stdout",
     "output_type": "stream",
     "text": [
      "MoviePy - Building file keypoints.gif with imageio.\n"
     ]
    },
    {
     "name": "stderr",
     "output_type": "stream",
     "text": [
      "                                                                       \r"
     ]
    },
    {
     "name": "stdout",
     "output_type": "stream",
     "text": [
      "MoviePy - Building file annotated.gif with imageio.\n"
     ]
    },
    {
     "name": "stderr",
     "output_type": "stream",
     "text": [
      "                                                                      \r"
     ]
    }
   ],
   "source": [
    "import numpy as np\n",
    "from moviepy import ImageSequenceClip\n",
    "\n",
    "annotated_frames = []\n",
    "keypoints_frames = []\n",
    "for r in result:\n",
    "\n",
    "    height, width = r.orig_shape\n",
    "\n",
    "    blank_image = np.zeros((height, width, 3), dtype=np.uint8)\n",
    "\n",
    "    img = r.plot(img=blank_image, boxes=False)\n",
    "    keypoints_frames.append(img)\n",
    "\n",
    "    img = r.plot(boxes=False)\n",
    "    annotated_frames.append(img)\n",
    "\n",
    "\n",
    "clip = ImageSequenceClip(keypoints_frames, fps=28/20)  # Adjust fps as needed\n",
    "clip.write_gif(\"keypoints.gif\", fps=28/20)\n",
    "\n",
    "clip = ImageSequenceClip(annotated_frames, fps=28/20)  # Adjust fps as needed\n",
    "clip.write_gif(\"annotated.gif\", fps=28/20)\n"
   ]
  },
  {
   "cell_type": "code",
   "execution_count": 29,
   "metadata": {},
   "outputs": [
    {
     "name": "stderr",
     "output_type": "stream",
     "text": [
      "[ WARN:0@6367.409] global cap.cpp:779 open VIDEOIO(CV_IMAGES): raised OpenCV exception:\n",
      "\n",
      "OpenCV(4.11.0) /io/opencv/modules/videoio/src/cap_images.cpp:415: error: (-215:Assertion failed) !filename_pattern.empty() in function 'CvVideoWriter_Images'\n",
      "\n",
      "\n"
     ]
    },
    {
     "ename": "ValueError",
     "evalue": "Keypoint data dimensions do not match image dimensions",
     "output_type": "error",
     "traceback": [
      "\u001b[31m---------------------------------------------------------------------------\u001b[39m",
      "\u001b[31mValueError\u001b[39m                                Traceback (most recent call last)",
      "\u001b[36mCell\u001b[39m\u001b[36m \u001b[39m\u001b[32mIn[29]\u001b[39m\u001b[32m, line 33\u001b[39m\n\u001b[32m     30\u001b[39m     out.release()\n\u001b[32m     32\u001b[39m \u001b[38;5;66;03m# Example usage\u001b[39;00m\n\u001b[32m---> \u001b[39m\u001b[32m33\u001b[39m \u001b[43mcreate_gif\u001b[49m\u001b[43m(\u001b[49m\u001b[43mresult\u001b[49m\u001b[43m,\u001b[49m\u001b[43m \u001b[49m\u001b[33;43m'\u001b[39;49m\u001b[33;43mkeypoint_animation.gif\u001b[39;49m\u001b[33;43m'\u001b[39;49m\u001b[43m)\u001b[49m\n",
      "\u001b[36mCell\u001b[39m\u001b[36m \u001b[39m\u001b[32mIn[29]\u001b[39m\u001b[32m, line 24\u001b[39m, in \u001b[36mcreate_gif\u001b[39m\u001b[34m(frames, output_path)\u001b[39m\n\u001b[32m     22\u001b[39m keypoints_data = frame.keypoints.data.cpu().permute(\u001b[32m1\u001b[39m, \u001b[32m2\u001b[39m, \u001b[32m0\u001b[39m).numpy() * \u001b[32m255\u001b[39m\n\u001b[32m     23\u001b[39m \u001b[38;5;28;01mif\u001b[39;00m keypoints_data.shape != (height, width, frame.keypoints.data.cpu().shape[\u001b[32m0\u001b[39m]):\n\u001b[32m---> \u001b[39m\u001b[32m24\u001b[39m     \u001b[38;5;28;01mraise\u001b[39;00m \u001b[38;5;167;01mValueError\u001b[39;00m(\u001b[33m\"\u001b[39m\u001b[33mKeypoint data dimensions do not match image dimensions\u001b[39m\u001b[33m\"\u001b[39m)\n\u001b[32m     26\u001b[39m img[:height, :width] = keypoints_data\n\u001b[32m     27\u001b[39m img = draw_keypoints(img.clone(), frame[\u001b[33m'\u001b[39m\u001b[33mxy\u001b[39m\u001b[33m'\u001b[39m])\n",
      "\u001b[31mValueError\u001b[39m: Keypoint data dimensions do not match image dimensions"
     ]
    }
   ],
   "source": [
    "import cv2\n",
    "import numpy as np\n",
    "import torch\n",
    "\n",
    "# Assuming you have a list of frames, each containing keypoint data\n",
    "\n",
    "# Function to draw keypoints on an image\n",
    "def draw_keypoints(image, xy, xyn=None, conf=None):\n",
    "    for point in xy:\n",
    "        cv2.circle(image, (int(point[0]), int(point[1])), 5, (0, 0, 255), -1)\n",
    "    return image\n",
    "\n",
    "# Function to join frames into a GIF\n",
    "def create_gif(frames, output_path='output.gif'):\n",
    "    # Create a VideoWriter object to save the GIF\n",
    "    height, width = frames[0].keypoints.data.cpu().shape[:2]\n",
    "    fourcc = cv2.VideoWriter_fourcc(*'gif ')\n",
    "    out = cv2.VideoWriter(output_path, fourcc, 1.0, (width, height))\n",
    "\n",
    "    for frame in frames:\n",
    "        img = np.zeros((height, width, 3), dtype=np.uint8)\n",
    "        keypoints_data = frame.keypoints.data.cpu().permute(1, 2, 0).numpy() * 255\n",
    "        if keypoints_data.shape != (height, width, frame.keypoints.data.cpu().shape[0]):\n",
    "            raise ValueError(\"Keypoint data dimensions do not match image dimensions\")\n",
    "        \n",
    "        img[:height, :width] = keypoints_data\n",
    "        img = draw_keypoints(img.clone(), frame['xy'])\n",
    "        out.write(img)\n",
    "\n",
    "    out.release()\n",
    "\n",
    "# Example usage\n",
    "create_gif(result, 'keypoint_animation.gif')"
   ]
  },
  {
   "cell_type": "code",
   "execution_count": null,
   "metadata": {},
   "outputs": [],
   "source": [
    "import pandas as pd\n",
    "\n",
    "data = []\n",
    "# Assuming 'results' is from your prediction\n",
    "for frame_id, result in enumerate(results):\n",
    "    for person_id, person in enumerate(result.keypoints):\n",
    "        keypoints = person.xy  # Get keypoints\n",
    "        confidences = person.conf  # Get confidences\n",
    "        for kp_id, (xy, conf) in enumerate(zip(keypoints, confidences)):\n",
    "            label = labels[kp_id]  # Get the label from predefined labels list\n",
    "            data.append([frame_id, person_id, label, *xy, conf])\n",
    "\n",
    "# Convert the data into a pandas DataFrame\n",
    "df = pd.DataFrame(data, columns=['frame_id', 'person_id', 'label', 'x', 'y', 'confidence'])\n"
   ]
  }
 ],
 "metadata": {
  "kernelspec": {
   "display_name": ".venv",
   "language": "python",
   "name": "python3"
  },
  "language_info": {
   "codemirror_mode": {
    "name": "ipython",
    "version": 3
   },
   "file_extension": ".py",
   "mimetype": "text/x-python",
   "name": "python",
   "nbconvert_exporter": "python",
   "pygments_lexer": "ipython3",
   "version": "3.12.3"
  }
 },
 "nbformat": 4,
 "nbformat_minor": 2
}
